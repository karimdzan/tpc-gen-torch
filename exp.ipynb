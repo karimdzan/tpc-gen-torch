{
 "cells": [
  {
   "cell_type": "code",
   "execution_count": 2,
   "metadata": {},
   "outputs": [],
   "source": [
    "%load_ext autoreload\n",
    "%autoreload 2"
   ]
  },
  {
   "cell_type": "code",
   "execution_count": null,
   "metadata": {},
   "outputs": [
    {
     "name": "stderr",
     "output_type": "stream",
     "text": [
      "\r",
      "  0%|          | 0/9982 [00:00<?, ?it/s]"
     ]
    }
   ],
   "source": [
    "from train import Trainer\n",
    "\n",
    "run = Trainer()\n",
    "run.train()"
   ]
  },
  {
   "cell_type": "code",
   "execution_count": 1,
   "metadata": {},
   "outputs": [
    {
     "data": {
      "text/plain": [
       "True"
      ]
     },
     "execution_count": 1,
     "metadata": {},
     "output_type": "execute_result"
    }
   ],
   "source": [
    "import torch\n",
    "torch.backends.mps.is_built()"
   ]
  },
  {
   "cell_type": "code",
   "execution_count": 93,
   "metadata": {},
   "outputs": [],
   "source": [
    "import torch.nn as nn\n",
    "\n",
    "\n",
    "class Discriminator(nn.Module):\n",
    "    def __init__(self):\n",
    "        super().__init__()\n",
    "        self.classifier = nn.Sequential(\n",
    "            nn.Conv2d(in_channels=1, out_channels=64, kernel_size=3, padding='same', bias=False),\n",
    "            nn.ELU(),\n",
    "            nn.Conv2d(in_channels=64, out_channels=128, kernel_size=3, padding='same', bias=False),\n",
    "            nn.BatchNorm2d(128),\n",
    "            nn.ELU(),\n",
    "            nn.Conv2d(in_channels=128, out_channels=256, kernel_size=3, padding='same', bias=False),\n",
    "            nn.BatchNorm2d(256),\n",
    "            nn.ELU(),\n",
    "            nn.Conv2d(in_channels=256, out_channels=512, kernel_size=3, padding='same', bias=False),\n",
    "            nn.BatchNorm2d(512),\n",
    "            nn.ELU(),\n",
    "            nn.Conv2d(in_channels=512, out_channels=1, kernel_size=1, bias=False)\n",
    "        )\n",
    "        self.act = nn.Sigmoid()\n",
    "\n",
    "    def forward(self, input):\n",
    "        out = self.classifier(input)\n",
    "        out = out.view((input.shape[0], -1))\n",
    "        out = self.act(out)\n",
    "        return out\n",
    "\n",
    "\n",
    "class Generator(nn.Module):\n",
    "    def __init__(self):\n",
    "        super().__init__()\n",
    "        self.gen = nn.Sequential(\n",
    "            nn.ConvTranspose2d(in_channels=36, out_channels=512, kernel_size=4, bias=False),\n",
    "            nn.BatchNorm2d(512),\n",
    "            nn.ReLU(),\n",
    "            nn.ConvTranspose2d(in_channels=512, out_channels=256, kernel_size=4, bias=False),\n",
    "            nn.BatchNorm2d(256),\n",
    "            nn.ReLU(),\n",
    "            nn.ConvTranspose2d(in_channels=256, out_channels=128, kernel_size=4, bias=False),\n",
    "            nn.BatchNorm2d(128),\n",
    "            nn.ReLU(),\n",
    "            nn.ConvTranspose2d(in_channels=128, out_channels=1, kernel_size=4, bias=False),\n",
    "            nn.Tanh()\n",
    "        )\n",
    "        self.output_linear = nn.Linear(in_features=169, out_features=150)\n",
    "\n",
    "    def forward(self, input):\n",
    "        input = input.unsqueeze(-1).unsqueeze(-1)\n",
    "        out = self.gen(input)\n",
    "        out = out.view((-1, 169))\n",
    "        out = self.output_linear(out)\n",
    "        out = out.view((-1, 1, 10, 15))\n",
    "        return out"
   ]
  },
  {
   "cell_type": "code",
   "execution_count": 94,
   "metadata": {},
   "outputs": [
    {
     "data": {
      "text/plain": [
       "torch.Size([10, 150])"
      ]
     },
     "execution_count": 94,
     "metadata": {},
     "output_type": "execute_result"
    }
   ],
   "source": [
    "device = torch.device(\"mps\")\n",
    "\n",
    "gen = Generator().to(device)\n",
    "disc = Discriminator().to(device)\n",
    "\n",
    "t = torch.randn((10, 36), device = device)\n",
    "\n",
    "out = gen(t).detach()\n",
    "\n",
    "logits = disc(out)\n",
    "\n",
    "logits.shape"
   ]
  }
 ],
 "metadata": {
  "kernelspec": {
   "display_name": "Python 3 (ipykernel)",
   "language": "python",
   "name": "python3"
  },
  "language_info": {
   "codemirror_mode": {
    "name": "ipython",
    "version": 3
   },
   "file_extension": ".py",
   "mimetype": "text/x-python",
   "name": "python",
   "nbconvert_exporter": "python",
   "pygments_lexer": "ipython3",
   "version": "3.9.16"
  }
 },
 "nbformat": 4,
 "nbformat_minor": 1
}
